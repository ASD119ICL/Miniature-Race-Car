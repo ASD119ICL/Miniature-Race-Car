{
 "cells": [
  {
   "cell_type": "code",
   "execution_count": 1,
   "metadata": {},
   "outputs": [
    {
     "name": "stdout",
     "output_type": "stream",
     "text": [
      "------------------------------  --------\n",
      "Maximum bending stress          22.0 MPa\n",
      "Safety factor against yielding  12.5\n",
      "------------------------------  --------\n"
     ]
    }
   ],
   "source": [
    "import numpy as np\n",
    "import matplotlib.pyplot as plt\n",
    "from tabulate import tabulate\n",
    "\n",
    "def plateStress(l,d,b,wp,wb,ys):\n",
    "    #(length, depth, breadth, weight of person, weight of battery box,yield strength)\n",
    "    I=1/12*l*(d**3) # second moment of area\n",
    "    bmm=b*1000\n",
    "    ra=(wp+wb)/2 #reaction force\n",
    "    Mmax=-((wb+wp)/4)*b # max BM\n",
    "    sigma=(Mmax*(-d/2))/I #max bending stress\n",
    "    sf=ys/sigma #SF against yielding\n",
    "    x=np.arange(0,bmm,1)#set x values along beam\n",
    "    y=np.zeros(int(bmm))#initialise array of BM values\n",
    "    y[0:int((bmm+1)/2)]=-((wp+wb)/2000)*x[0:int((bmm+1)/2)] #BM for section 1 of beam\n",
    "    y[int(bmm/2):]=np.flip(y[:int(len(x)/2)]) # bm for section 2 of beam\n",
    "    # plotting and formatting\n",
    "    plt.plot(x,y)\n",
    "    plt.xlabel('x(m)')\n",
    "    plt.axvline(0,color='black')\n",
    "    plt.axhline(0,color='black')\n",
    "    plt.ylabel('Bending moment(Nm)')\n",
    "\n",
    "    # return max principle stress, SF\n",
    "    return ((str(round(sigma/(10**6),3))+' MPa'),str(round(sf,1)))\n",
    "\n",
    "a,b=plateStress(1.5,0.01,1,2000,200,276*(10**6))\n",
    "#tabulate data\n",
    "data = [\n",
    "[ 'Maximum bending stress',a ],\n",
    "['Safety factor against yielding', b]] \n",
    "print(tabulate(data))"
   ]
  },
  {
   "cell_type": "code",
   "execution_count": null,
   "metadata": {},
   "outputs": [],
   "source": []
  }
 ],
 "metadata": {
  "kernelspec": {
   "display_name": "Python 3",
   "language": "python",
   "name": "python3"
  },
  "language_info": {
   "codemirror_mode": {
    "name": "ipython",
    "version": 3
   },
   "file_extension": ".py",
   "mimetype": "text/x-python",
   "name": "python",
   "nbconvert_exporter": "python",
   "pygments_lexer": "ipython3",
   "version": "3.7.4"
  }
 },
 "nbformat": 4,
 "nbformat_minor": 2
}
