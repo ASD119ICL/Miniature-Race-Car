{
 "cells": [
  {
   "cell_type": "code",
   "execution_count": 2,
   "metadata": {},
   "outputs": [
    {
     "name": "stdout",
     "output_type": "stream",
     "text": [
      "--------------------------------  ----------\n",
      "Bending stress                    69.941 MPa\n",
      "Shear stress                      10.88 MPa\n",
      "Max principal stress              71.594 MPa\n",
      "Safety factor - Tresca Criterion  5.461\n",
      "--------------------------------  ----------\n",
      "------------------------------  ------------\n",
      "Maximum deflection              1.227 mm\n",
      "Critical speed                  89.401 rad/s\n",
      "Safety factor - Critical speed  2.235\n",
      "------------------------------  ------------\n"
     ]
    },
    {
     "data": {
      "image/png": "[encoded data removed]",
      "text/plain": [
       "<Figure size 432x288 with 1 Axes>"
      ]
     },
     "metadata": {
      "needs_background": "light"
     },
     "output_type": "display_data"
    }
   ],
   "source": [
    "import numpy as np\n",
    "from tabulate import tabulate\n",
    "import matplotlib.pyplot as plt\n",
    "global sigmaY,sigmaUTS,sigmaE,E\n",
    "import math as mt\n",
    "sigmaY=480*(10**6) #yield strength\n",
    "sigmaUTS=620*(10**6) # ultimate tensile strength\n",
    "sigmaE=0.5*sigmaUTS # fatigue strength\n",
    "E=210*(10**9) # Young's modulus\n",
    "def fatigue(d,kf,kfs,T):\n",
    "#(diameter, fatigue scf1,scf2,torque)\n",
    "    se=sigmaE\n",
    "    tm=T\n",
    "    sy=sigmaY\n",
    "    ma=(stressCalc(1.1,0.2,3000,0,0.01,0.015,15,1.2)[4])/1000\n",
    "    sf=1/((16/(np.pi*(d**3)))*((4*((kf*ma/se)**2)+3*((kfs*tm/sy)**2))**0.5))\n",
    "    #return fatigue sf\n",
    "    return str(round(sf,3))\n",
    "\n",
    "def stressCalc(L,l,wc,wp,r1,r2,T,kt):\n",
    "#(total length of shaft, distance of bearing from shaft end, curb weight, weight of person, radius 1, radius 2, SCF)\n",
    "    Lmm=L*1000\n",
    "    lmm=l*1000\n",
    "    I1=(mt.pi/4)*(r1**4) # second moment of area of first section\n",
    "    I2=(mt.pi/4)*(r2**4) # second moment of area of second shaft section\n",
    "    Mmax=-((wc+wp)*l)/2 # max BM\n",
    "    sigmaB=Mmax*(-r2)/I2 # bending stress\n",
    "    J=np.pi/2*(r2**4) # polar moment of area\n",
    "    ss=(T*r2)/J # shear stress\n",
    "    yp=np.sqrt((sigmaB**2)+4*(ss**2)) #principal stress\n",
    "    s1=0.5*sigmaB+0.5*np.sqrt(4*(ss**2)+(sigmaB**2))\n",
    "    sf=sigmaY/(yp*kt) #safety factor\n",
    "\n",
    "    x=np.arange(0,Lmm,1) #set range of x values\n",
    "    y=np.zeros(round(Lmm)) #initialise array of BM\n",
    "    y[0:int(lmm+1)]=-((wc+wp)/2)*(x[0:int(lmm+1)]/1000) #section 1 BM\n",
    "    y[int(lmm):int(l-lmm+1)]=Mmax #section 2 BM\n",
    "    y[int(l-lmm-1):len(x)]=np.flip(y[0:int(lmm)]) #section 3 BM\n",
    "    #plotting and formatting\n",
    "    plt.plot(x,y)\n",
    "    plt.xlabel('shaft length (mm)')\n",
    "    plt.ylabel('bending moment(Nm)')\n",
    "    plt.axvline(0,color='black')\n",
    "    plt.axhline(0,color='black')\n",
    "    #return bending stress, shear stress, max principal stress and Tresca SF\n",
    "    return (str(round(sigmaB/(10**6),3))+' MPa',\n",
    "            str(round(ss/(10**6),3))+' MPa',str(round(s1/(10**6),3))+' MPa',\n",
    "            str(round(sf,3)),Mmax)\n",
    "\n",
    "\n",
    "def criticalSpeed(L,l,d,wc,wp):\n",
    "    #(shaft length, distance from end to bearing, diameter,curb weight, weight of person)\n",
    "    I=(mt.pi/4)*((d/2)**4) # second moment of area\n",
    "    wt=wc+wp # total weight\n",
    "    g=9.81 #gravity\n",
    "    d=-(wt/(12*E*I))*(-((L/2)**3)+(((L/2)-l)**3)) # max deflection\n",
    "    w=np.sqrt(g/d) #critical velocity\n",
    "    wOperate=40 # max operating angular velocity\n",
    "    sf=w/wOperate #safety factor \n",
    "    #return deflection, critical velocity and SF\n",
    "    return (str(round((d*1000),3))+ \" mm\",str(round(w,3))+ \" rad/s\",str(round(sf,3)))\n",
    "\n",
    "a,b,c,d,e=stressCalc(12,0.15,3000,0,0.01,0.016,70,1.2)\n",
    "#e=fatigue(0.07,1.2,1.2,0.015)\n",
    "\n",
    "#tabulate stress analysis data\n",
    "data = [\n",
    "[ 'Bending stress',a ],\n",
    "['Shear stress', b],\n",
    "['Max principal stress',c],\n",
    "['Safety factor - Tresca Criterion',d]] \n",
    "print(tabulate(data))\n",
    "\n",
    "#tabulate critical velocity data\n",
    "a,b,c=criticalSpeed(0.096,0.016,0.0045,800,0)   \n",
    "\n",
    "data = [\n",
    "[ 'Maximum deflection',a ],\n",
    "['Critical speed', b],\n",
    "['Safety factor - Critical speed',c]] \n",
    "print(tabulate(data))\n",
    "\n",
    "    "
   ]
  },
  {
   "cell_type": "code",
   "execution_count": null,
   "metadata": {},
   "outputs": [],
   "source": []
  }
 ],
 "metadata": {
  "kernelspec": {
   "display_name": "Python 3",
   "language": "python",
   "name": "python3"
  },
  "language_info": {
   "codemirror_mode": {
    "name": "ipython",
    "version": 3
   },
   "file_extension": ".py",
   "mimetype": "text/x-python",
   "name": "python",
   "nbconvert_exporter": "python",
   "pygments_lexer": "ipython3",
   "version": "3.7.4"
  }
 },
 "nbformat": 4,
 "nbformat_minor": 2
}
